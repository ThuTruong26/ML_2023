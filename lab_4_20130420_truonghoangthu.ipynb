{
  "nbformat": 4,
  "nbformat_minor": 0,
  "metadata": {
    "colab": {
      "provenance": [],
      "include_colab_link": true
    },
    "kernelspec": {
      "name": "python3",
      "display_name": "Python 3"
    },
    "language_info": {
      "name": "python"
    }
  },
  "cells": [
    {
      "cell_type": "markdown",
      "metadata": {
        "id": "view-in-github",
        "colab_type": "text"
      },
      "source": [
        "<a href=\"https://colab.research.google.com/github/ThuTruong26/ML_2023/blob/main/lab_4_20130420_truonghoangthu.ipynb\" target=\"_parent\"><img src=\"https://colab.research.google.com/assets/colab-badge.svg\" alt=\"Open In Colab\"/></a>"
      ]
    },
    {
      "cell_type": "markdown",
      "source": [
        "# This lab is to continous dealing with **Logistic Regression**, **kNN**, and **Decision Tree** alogirthms applied to classification tasks. \n",
        "\n",
        "*   **Deadline: 23:59, 12/03/2023**\n",
        "\n"
      ],
      "metadata": {
        "id": "LMzehe0sy5wr"
      }
    },
    {
      "cell_type": "markdown",
      "source": [
        "# Import libraries"
      ],
      "metadata": {
        "id": "H4nJmxp9zGX4"
      }
    },
    {
      "cell_type": "code",
      "source": [
        "#code\n",
        "from google.colab import drive\n",
        "drive.mount('/content/gdrive')\n",
        "%cd '/content/gdrive/MyDrive/ML'"
      ],
      "metadata": {
        "colab": {
          "base_uri": "https://localhost:8080/"
        },
        "id": "LRItCbpwjKf-",
        "outputId": "1c7dce6d-911f-46ee-8332-839045e1e1e7"
      },
      "execution_count": null,
      "outputs": [
        {
          "output_type": "stream",
          "name": "stdout",
          "text": [
            "Mounted at /content/gdrive\n",
            "/content/gdrive/MyDrive/ML2023_TV201\n"
          ]
        }
      ]
    },
    {
      "cell_type": "code",
      "execution_count": null,
      "metadata": {
        "id": "DoVWQ8AEyc-C"
      },
      "outputs": [],
      "source": [
        "# code\n",
        "from sklearn.linear_model import LogisticRegression \n",
        "from sklearn.tree import DecisionTreeClassifier\n",
        "from sklearn.metrics import confusion_matrix \n",
        "from sklearn.metrics import ConfusionMatrixDisplay\n",
        "from sklearn.metrics import accuracy_score \n",
        "from sklearn import datasets\n",
        "from sklearn.model_selection import train_test_split\n",
        "from sklearn.neighbors import KNeighborsClassifier\n",
        "from sklearn.metrics import accuracy_score, precision_score, recall_score, f1_score, balanced_accuracy_score\n",
        "from sklearn import metrics\n",
        "import matplotlib.pyplot as plt\n",
        "import numpy as np\n",
        "import pandas as pd"
      ]
    },
    {
      "cell_type": "markdown",
      "source": [
        "#Task 1. \n",
        "Apply **LogisticRegression** to iris dataset which aims at classifying species of iris based on sepal_length (chiều dài đài hoa), sepal_width, petal_length (chiều dài cánh hoa), petal_width. The species are '**setosa**' '**versicolor**' and '**virginica**'. \n",
        "\n",
        "\n",
        "\n",
        "```\n",
        "from sklearn import datasets\n",
        "data4 = datasets.load_iris()\n",
        "```\n",
        "\n",
        "\n"
      ],
      "metadata": {
        "id": "kNv07ARGzOUm"
      }
    },
    {
      "cell_type": "code",
      "source": [
        "# code\n",
        "dataSet = datasets.load_iris()\n",
        "x = dataSet['data']\n",
        "y = dataSet['target']\n",
        "x_train, x_test, y_train, y_test = train_test_split(dataSet.data, dataSet.target, test_size=0.3)\n",
        "classifier = LogisticRegression(random_state = 0) \n",
        "classifier.fit(x_train, y_train)\n",
        "y_pred = classifier.predict(x_test)\n",
        "cm = confusion_matrix(y_test, y_pred) \n",
        "print (\"Accuracy : \", accuracy_score(y_test, y_pred))\n",
        "print (\"Confusion Matrix : \\n\", cm)\n",
        "ConfusionMatrixDisplay.from_predictions(y_test, y_pred)"
      ],
      "metadata": {
        "id": "sOsg77IBzEyo",
        "outputId": "0c9caec0-7560-4389-aeb5-02af25feaef9",
        "colab": {
          "base_uri": "https://localhost:8080/",
          "height": 387
        }
      },
      "execution_count": null,
      "outputs": [
        {
          "output_type": "stream",
          "name": "stdout",
          "text": [
            "Accuracy :  0.9333333333333333\n",
            "Confusion Matrix : \n",
            " [[11  0  0]\n",
            " [ 0 16  1]\n",
            " [ 0  2 15]]\n"
          ]
        },
        {
          "output_type": "execute_result",
          "data": {
            "text/plain": [
              "<sklearn.metrics._plot.confusion_matrix.ConfusionMatrixDisplay at 0x7fdfb4be8e80>"
            ]
          },
          "metadata": {},
          "execution_count": 60
        },
        {
          "output_type": "display_data",
          "data": {
            "text/plain": [
              "<Figure size 432x288 with 2 Axes>"
            ],
            "image/png": "[encoded data removed]"
          },
          "metadata": {
            "needs_background": "light"
          }
        }
      ]
    },
    {
      "cell_type": "markdown",
      "source": [
        "#Task 2. \n",
        "Apply LogisticRegression to **MNIST** dataset (mnist.csv) which aims at classifying handwritten digits. Dataset includes 784 pixels values of images (28x28). \n",
        "\n",
        "\n",
        "```\n",
        "from sklearn import datasets\n",
        "# load the MNIST digits dataset\n",
        "mnist = datasets.load_digits()\n",
        "```\n",
        "\n"
      ],
      "metadata": {
        "id": "S43IoUT-0OQq"
      }
    },
    {
      "cell_type": "code",
      "source": [
        "# code\n",
        "# load the MNIST digits dataset\n",
        "mnist = datasets.load_digits()\n",
        "x = mnist['data']\n",
        "y = mnist['target']\n",
        "x_train, x_test, y_train, y_test = train_test_split(mnist.data, mnist.target, test_size=0.3)\n",
        "classifier = LogisticRegression(random_state = 0)\n",
        "classifier.fit(x_train, y_train) \n",
        "y_pred = classifier.predict(x_test)\n",
        "cm_2 = confusion_matrix(y_test, y_pred) \n",
        "print (\"Accuracy : \", accuracy_score(y_test, y_pred)) \n",
        "print (\"Confusion Matrix : \\n\", cm)\n",
        "ConfusionMatrixDisplay.from_predictions(y_test, y_pred)"
      ],
      "metadata": {
        "id": "_xhPpF5b033h",
        "colab": {
          "base_uri": "https://localhost:8080/",
          "height": 522
        },
        "outputId": "6d073435-7a38-4612-d3ff-2b709ee99fbb"
      },
      "execution_count": null,
      "outputs": [
        {
          "output_type": "stream",
          "name": "stderr",
          "text": [
            "/usr/local/lib/python3.9/dist-packages/sklearn/linear_model/_logistic.py:458: ConvergenceWarning: lbfgs failed to converge (status=1):\n",
            "STOP: TOTAL NO. of ITERATIONS REACHED LIMIT.\n",
            "\n",
            "Increase the number of iterations (max_iter) or scale the data as shown in:\n",
            "    https://scikit-learn.org/stable/modules/preprocessing.html\n",
            "Please also refer to the documentation for alternative solver options:\n",
            "    https://scikit-learn.org/stable/modules/linear_model.html#logistic-regression\n",
            "  n_iter_i = _check_optimize_result(\n"
          ]
        },
        {
          "output_type": "stream",
          "name": "stdout",
          "text": [
            "Accuracy :  0.9537037037037037\n",
            "Confusion Matrix : \n",
            " [[11  0  0]\n",
            " [ 0 16  1]\n",
            " [ 0  2 15]]\n"
          ]
        },
        {
          "output_type": "execute_result",
          "data": {
            "text/plain": [
              "<sklearn.metrics._plot.confusion_matrix.ConfusionMatrixDisplay at 0x7fdfb2b3f580>"
            ]
          },
          "metadata": {},
          "execution_count": 61
        },
        {
          "output_type": "display_data",
          "data": {
            "text/plain": [
              "<Figure size 432x288 with 2 Axes>"
            ],
            "image/png": "[encoded data removed]"
          },
          "metadata": {
            "needs_background": "light"
          }
        }
      ]
    },
    {
      "cell_type": "markdown",
      "source": [
        "#Task 3. \n",
        "Apply another classification algorithm named kNN, which is an instance classifcation model. \n",
        "*  3.1. Perform kNN algorithm to Iris dataset with k={1, 3, 5, …, 29}. Select the best value of k.\n",
        "\n",
        "*   3.2. Then compare the obtained results with those using Logistic regression (based on metrics: accuracy, precision, recall, f1 measure).\n"
      ],
      "metadata": {
        "id": "Rti2y0Wz2KY9"
      }
    },
    {
      "cell_type": "code",
      "source": [
        "# code\n",
        "data3 = datasets.load_iris()\n",
        "x = data3.data\n",
        "y = data3.target\n",
        "x_train, x_test, y_train, y_test = train_test_split(x, y, test_size = 0.3)\n",
        "k_range = range(1, 30, 2)\n",
        "accuracy = []\n",
        "precision = []\n",
        "recall = []\n",
        "f1 = []\n",
        "for k in k_range:\n",
        "  kNN = KNeighborsClassifier(n_neighbors = k)\n",
        "  kNN.fit(x_train, y_train)\n",
        "  y_pred = kNN.predict(x_test)\n",
        "  accuracy.append(accuracy_score(y_test, y_pred))\n",
        "  precision.append(precision_score(y_test, y_pred, average='weighted'))\n",
        "  recall.append(recall_score(y_test, y_pred, average='weighted'))\n",
        "  f1.append(f1_score(y_test, y_pred, average='weighted'))\n",
        "print(\"Accuracy:\", accuracy)\n",
        "print(\"Precision:\", precision)\n",
        "print(\"Recall:\", recall)\n",
        "print(\"F1-score:\", f1)\n",
        "\n",
        "# ve do thi bieu dien su thay doi cua do chinh xac precision, recall va F1-score\n",
        "plt.plot(k_range, accuracy, label='Accuracy')\n",
        "plt.plot(k_range, precision, label='Precision')\n",
        "plt.plot(k_range, recall, label='Recall')\n",
        "plt.plot(k_range, f1, label='F1-score')\n",
        "plt.xlabel('Value of K for KNN')\n",
        "plt.ylabel('Score')\n",
        "plt.legend()\n",
        "plt.show()\n",
        "\n",
        "# gia tri tot nhat của k\n",
        "best_k = k_range[accuracy.index(max(accuracy))]\n",
        "print('Best k:', best_k)"
      ],
      "metadata": {
        "id": "13LkkfpS2ZUR",
        "colab": {
          "base_uri": "https://localhost:8080/",
          "height": 386
        },
        "outputId": "8a15ea94-4709-4fd0-fd97-985abc3b6564"
      },
      "execution_count": null,
      "outputs": [
        {
          "output_type": "stream",
          "name": "stdout",
          "text": [
            "Accuracy: [0.9333333333333333, 0.9333333333333333, 0.9555555555555556, 0.9555555555555556, 0.9777777777777777, 0.9777777777777777, 0.9777777777777777, 0.9777777777777777, 0.9777777777777777, 0.9777777777777777, 0.9777777777777777, 0.9777777777777777, 0.9555555555555556, 0.9555555555555556, 0.9555555555555556]\n",
            "Precision: [0.9354497354497354, 0.9354497354497354, 0.9555555555555556, 0.9555555555555556, 0.9796296296296295, 0.9796296296296295, 0.9796296296296295, 0.9796296296296295, 0.9796296296296295, 0.9796296296296295, 0.9796296296296295, 0.9796296296296295, 0.9623931623931624, 0.9623931623931624, 0.9623931623931624]\n",
            "Recall: [0.9333333333333333, 0.9333333333333333, 0.9555555555555556, 0.9555555555555556, 0.9777777777777777, 0.9777777777777777, 0.9777777777777777, 0.9777777777777777, 0.9777777777777777, 0.9777777777777777, 0.9777777777777777, 0.9777777777777777, 0.9555555555555556, 0.9555555555555556, 0.9555555555555556]\n",
            "F1-score: [0.9336331834082958, 0.9336331834082958, 0.9555555555555556, 0.9555555555555556, 0.9778777278027653, 0.9778777278027653, 0.9778777278027653, 0.9778777278027653, 0.9778777278027653, 0.9778777278027653, 0.9778777278027653, 0.9778777278027653, 0.9558201058201058, 0.9558201058201058, 0.9558201058201058]\n"
          ]
        },
        {
          "output_type": "display_data",
          "data": {
            "text/plain": [
              "<Figure size 432x288 with 1 Axes>"
            ],
            "image/png": "[encoded data removed]"
          },
          "metadata": {
            "needs_background": "light"
          }
        },
        {
          "output_type": "stream",
          "name": "stdout",
          "text": [
            "Best k: 9\n"
          ]
        }
      ]
    },
    {
      "cell_type": "markdown",
      "source": [
        "#Task 4. \n",
        "Similar to Task 3, apply kNN algorithm to **mnist** dataset which included in datasets of sklearn API.\n",
        "*  4.1.\tPerform kNN algorithm to Iris dataset with k={1, 3, 5, …, 29}. Select the best value of k.\n",
        "*  4.2.\tThen compare the obtained results with those using Logistic regression (based on metrics: accuracy, precision, recall, f1 measure).\n"
      ],
      "metadata": {
        "id": "b52OPWPD2afi"
      }
    },
    {
      "cell_type": "code",
      "source": [
        "# code\n",
        "mnist = datasets.load_iris()\n",
        "x = mnist.data\n",
        "y = mnist.target\n",
        "x_train, x_test, y_train, y_test = train_test_split(x, y, test_size = 0.2, random_state = 3)\n",
        "k_range = range(1, 30, 2)\n",
        "accuracy = []\n",
        "precision = []\n",
        "recall = []\n",
        "f1 = []\n",
        "for k in k_range:\n",
        "  kNN = KNeighborsClassifier(n_neighbors = k)\n",
        "  kNN.fit(x_train, y_train)\n",
        "  y_pred = kNN.predict(x_test)\n",
        "  accuracy.append(accuracy_score(y_test, y_pred))\n",
        "  precision.append(precision_score(y_test, y_pred, average = 'weighted'))\n",
        "  recall.append(recall_score(y_test, y_pred, average = 'weighted'))\n",
        "  f1.append(f1_score(y_test, y_pred, average = 'weighted'))\n",
        "print('Accuracy: ', accuracy)\n",
        "print('Precision: ', precision)\n",
        "print('Recall: ', recall)\n",
        "print('F1-score: ', f1)\n",
        "\n",
        "# ve do thi bieu dien su thay doi cua do chinh xac precision, recall va F1-score\n",
        "plt.plot(k_range, accuracy, label = 'Accuracy')\n",
        "plt.plot(k_range, precision, label = 'Precision')\n",
        "plt.plot(k_range, recall, label = 'Recall')\n",
        "plt.plot(k_range, f1, label = 'F1-score')\n",
        "plt.xlabel('Value of k for kNN')\n",
        "plt.ylabel('Score')\n",
        "plt.legend()\n",
        "plt.show()\n",
        "\n",
        "# gia tri tot nhat cua k\n",
        "best_k = k_range[accuracy.index(max(accuracy))]\n",
        "print('Best k: ', best_k)"
      ],
      "metadata": {
        "id": "Rw_-8FIf2KxW",
        "colab": {
          "base_uri": "https://localhost:8080/",
          "height": 386
        },
        "outputId": "4c45bd15-3fee-4305-8603-c63d8de146d9"
      },
      "execution_count": null,
      "outputs": [
        {
          "output_type": "stream",
          "name": "stdout",
          "text": [
            "Accuracy:  [0.9333333333333333, 0.9666666666666667, 0.9666666666666667, 0.9666666666666667, 1.0, 1.0, 1.0, 1.0, 1.0, 1.0, 1.0, 1.0, 0.9666666666666667, 0.9666666666666667, 0.9666666666666667]\n",
            "Precision:  [0.9333333333333333, 0.9696969696969696, 0.9696969696969696, 0.9696969696969696, 1.0, 1.0, 1.0, 1.0, 1.0, 1.0, 1.0, 1.0, 0.9696969696969696, 0.9696969696969696, 0.9696969696969696]\n",
            "Recall:  [0.9333333333333333, 0.9666666666666667, 0.9666666666666667, 0.9666666666666667, 1.0, 1.0, 1.0, 1.0, 1.0, 1.0, 1.0, 1.0, 0.9666666666666667, 0.9666666666666667, 0.9666666666666667]\n",
            "F1-score:  [0.9333333333333333, 0.9665831244778613, 0.9665831244778613, 0.9665831244778613, 1.0, 1.0, 1.0, 1.0, 1.0, 1.0, 1.0, 1.0, 0.9665831244778613, 0.9665831244778613, 0.9665831244778613]\n"
          ]
        },
        {
          "output_type": "display_data",
          "data": {
            "text/plain": [
              "<Figure size 432x288 with 1 Axes>"
            ],
            "image/png": "[encoded data removed]"
          },
          "metadata": {
            "needs_background": "light"
          }
        },
        {
          "output_type": "stream",
          "name": "stdout",
          "text": [
            "Best k:  9\n"
          ]
        }
      ]
    },
    {
      "cell_type": "markdown",
      "source": [
        "#Task 5. \n",
        "Compare the performance of selected classification algorithms (**Decision Treen, kNN, and Logistic Regression**) to ***spam detection***. The dataset can be accessed from the link: http://archive.ics.uci.edu/ml/datasets/Spambase \n",
        "Attribute Information:\n",
        "The last column of 'spambase.csv denotes whether the e-mail was considered spam (1) or not (0), i.e. unsolicited commercial e-mail. Most of the attributes indicate whether a particular word or character was frequently occuring in the e-mail. The run-length attributes (55-57) measure the length of sequences of consecutive capital letters. For the statistical measures of each attribute, see the end of this file. Here are the definitions of the attributes: \n",
        "*  48 continuous real [0,100] attributes of type word_freq_WORD \n",
        "= percentage of words in the e-mail that match WORD, i.e. 100 * (number of times the WORD appears in the e-mail) / total number of words in e-mail. A \"word\" in this case is any string of alphanumeric characters bounded by non-alphanumeric characters or end-of-string. **Example**: word_freq_address: percentage of words in the e-mail that match ADDRESS.\n",
        "*  6 continuous real [0,100] attributes of type char_freq_CHAR] \n",
        "= percentage of characters in the e-mail that match CHAR, i.e. 100 * (number of CHAR occurences) / total characters in e-mail\n",
        "*  1 continuous real [1,...] attribute of type capital_run_length_average \n",
        "= average length of uninterrupted sequences of capital letters\n",
        "*  1 continuous integer [1,...] attribute of type capital_run_length_longest \n",
        "= length of longest uninterrupted sequence of capital letters\n",
        "*  1 continuous integer [1,...] attribute of type capital_run_length_total = sum of length of uninterrupted sequences of capital letters = total number of capital letters in the e-mail\n",
        "*  1 nominal {0,1} class attribute of type spam = denotes whether the e-mail was considered spam (1) or not (0), i.e. unsolicited commercial e-mail. \n",
        "\n",
        "\n",
        "---\n",
        "\n",
        "\n",
        "In order to compare the performance of selected algorithms, some common metrics including **accuracy, precision, recall, f1 measures** could be used.\n"
      ],
      "metadata": {
        "id": "MVzSk4l505E0"
      }
    },
    {
      "cell_type": "code",
      "source": [
        "# code\n",
        "# Load data\n",
        "data = pd.read_csv('spambase.data')\n",
        "X = data.iloc[:, :-1].values\n",
        "y = data.iloc[:, -1].values\n",
        "\n",
        "X_train, X_test, y_train, y_test = train_test_split(X, y, test_size = 0.2, random_state = 42)\n",
        "\n",
        "# Train and evaluate decision tree classifier\n",
        "tree = DecisionTreeClassifier(random_state = 42)\n",
        "tree.fit(X_train, y_train)\n",
        "y_pred_tree = tree.predict(X_test)\n",
        "acc_tree = accuracy_score(y_test, y_pred_tree)\n",
        "bal_acc_tree = balanced_accuracy_score(y_test, y_pred_tree)\n",
        "recall_tree = recall_score(y_test, y_pred_tree)\n",
        "precision_tree = precision_score(y_test, y_pred_tree)\n",
        "f1_tree = f1_score(y_test, y_pred_tree)\n",
        "\n",
        "# Train and evaluate kNN classifier\n",
        "kNN = KNeighborsClassifier()\n",
        "kNN.fit(X_train, y_train)\n",
        "y_pred_kNN = kNN.predict(X_test)\n",
        "acc_kNN = accuracy_score(y_test, y_pred_kNN)\n",
        "bal_acc_kNN = balanced_accuracy_score(y_test, y_pred_kNN)\n",
        "recall_kNN = recall_score(y_test, y_pred_kNN)\n",
        "precision_kNN = precision_score(y_test, y_pred_kNN)\n",
        "f1_kNN = f1_score(y_test, y_pred_kNN)\n",
        "\n",
        "# Train and evaluate logistic regression classifier\n",
        "lr = LogisticRegression(random_state = 42)\n",
        "lr.fit(X_train, y_train)\n",
        "y_pred_lr = lr.predict(X_test)\n",
        "acc_lr = accuracy_score(y_test, y_pred_lr)\n",
        "bal_acc_lr = balanced_accuracy_score(y_test, y_pred_lr)\n",
        "recall_lr = recall_score(y_test, y_pred_lr)\n",
        "precision_lr = precision_score(y_test, y_pred_lr)\n",
        "f1_lr = f1_score(y_test, y_pred_lr)\n",
        "\n",
        "# Print performance metrics\n",
        "print('Decision Tree Classifier:')\n",
        "print('Accuracy:', acc_tree)\n",
        "print('Balanced Accuracy:', bal_acc_tree)\n",
        "print('Recall:', recall_tree)\n",
        "print('Precision:', precision_tree)\n",
        "print('F1 score:', f1_tree)\n",
        "\n",
        "print('k-Nearest Neighbors Classifier:')\n",
        "print('Accuracy:', acc_kNN)\n",
        "print('Balanced Accuracy:', bal_acc_kNN)\n",
        "print('Recall:', recall_kNN)\n",
        "print('Precision:', precision_kNN)\n",
        "print('F1 score:', f1_kNN)\n",
        "\n",
        "print('Logistic Regression Classifier:')\n",
        "print('Accuracy:', acc_lr)\n",
        "print('Balanced Accuracy:', bal_acc_lr)\n",
        "print('Recall:', recall_lr)\n",
        "print('Precision:', precision_lr)\n",
        "print('F1 score:', f1_lr)"
      ],
      "metadata": {
        "id": "W_1v_ivR2f6D",
        "colab": {
          "base_uri": "https://localhost:8080/"
        },
        "outputId": "f6713bd4-d896-4b18-f776-26fe55200ed2"
      },
      "execution_count": null,
      "outputs": [
        {
          "output_type": "stream",
          "name": "stdout",
          "text": [
            "Decision Tree Classifier:\n",
            "Accuracy: 0.925\n",
            "Balanced Accuracy: 0.9216981132075472\n",
            "Recall: 0.9\n",
            "Precision: 0.9212598425196851\n",
            "F1 score: 0.9105058365758755\n",
            "k-Nearest Neighbors Classifier:\n",
            "Accuracy: 0.775\n",
            "Balanced Accuracy: 0.7647556845670054\n",
            "Recall: 0.6974358974358974\n",
            "Precision: 0.7534626038781164\n",
            "F1 score: 0.7243675099866844\n",
            "Logistic Regression Classifier:\n",
            "Accuracy: 0.9043478260869565\n",
            "Balanced Accuracy: 0.89937106918239\n",
            "Recall: 0.8666666666666667\n",
            "Precision: 0.9037433155080213\n",
            "F1 score: 0.8848167539267014\n"
          ]
        },
        {
          "output_type": "stream",
          "name": "stderr",
          "text": [
            "/usr/local/lib/python3.9/dist-packages/sklearn/linear_model/_logistic.py:458: ConvergenceWarning: lbfgs failed to converge (status=1):\n",
            "STOP: TOTAL NO. of ITERATIONS REACHED LIMIT.\n",
            "\n",
            "Increase the number of iterations (max_iter) or scale the data as shown in:\n",
            "    https://scikit-learn.org/stable/modules/preprocessing.html\n",
            "Please also refer to the documentation for alternative solver options:\n",
            "    https://scikit-learn.org/stable/modules/linear_model.html#logistic-regression\n",
            "  n_iter_i = _check_optimize_result(\n"
          ]
        }
      ]
    },
    {
      "cell_type": "markdown",
      "source": [
        "#Finally,\n",
        "Save a copy in your Github. Remember renaming the notebook."
      ],
      "metadata": {
        "id": "Ok7RGkea_b7n"
      }
    }
  ]
}